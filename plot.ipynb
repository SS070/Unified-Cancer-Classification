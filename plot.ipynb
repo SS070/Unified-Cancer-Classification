{
 "cells": [
  {
   "cell_type": "code",
   "id": "initial_id",
   "metadata": {
    "collapsed": true,
    "ExecuteTime": {
     "end_time": "2025-04-11T15:46:43.537944Z",
     "start_time": "2025-04-11T15:46:38.136335Z"
    }
   },
   "source": [
    "from tensorflow.keras.applications import DenseNet169\n",
    "from tensorflow.keras.models import Model, Sequential\n",
    "from tensorflow.keras.layers import GlobalAveragePooling2D, Dense, Dropout\n",
    "from tensorflow.keras.utils import plot_model\n",
    "\n",
    "# 1. Create the DenseNet169 feature extractor\n",
    "base_model = DenseNet169(weights=\"imagenet\", include_top=False, input_shape=(224, 224, 3))\n",
    "\n",
    "# Freeze all layers\n",
    "for layer in base_model.layers:\n",
    "    layer.trainable = False\n",
    "\n",
    "# Add Global Average Pooling\n",
    "x = GlobalAveragePooling2D()(base_model.output)\n",
    "feature_extractor = Model(inputs=base_model.input, outputs=x)\n",
    "\n",
    "# 2. Create the CNN classifier - using num_classes=10 as example\n",
    "num_classes = 10  # You should replace this with your actual number of classes\n",
    "cnn_model = Sequential([\n",
    "    Dense(512, activation='relu', name='dense_1'),\n",
    "    Dropout(0.5, name='dropout_1'),\n",
    "    Dense(256, activation='relu', name='dense_2'),\n",
    "    Dropout(0.3, name='dropout_2'),\n",
    "    Dense(128, activation='relu', name='dense_3'),\n",
    "    Dropout(0.2, name='dropout_3'),\n",
    "    Dense(num_classes, activation='softmax', name='output')\n",
    "], name='CNN_Classifier')\n",
    "\n",
    "# 3. Combine both models\n",
    "combined_model = Sequential([\n",
    "    feature_extractor,\n",
    "    cnn_model\n",
    "], name='Combined_Model')\n",
    "\n",
    "# 4. Plot the models\n",
    "plot_model(\n",
    "    feature_extractor,\n",
    "    to_file='densenet_feature_extractor.png',\n",
    "    show_shapes=True,\n",
    "    show_layer_names=True,\n",
    "    rankdir='TB',\n",
    "    dpi=96\n",
    ")\n",
    "\n",
    "plot_model(\n",
    "    cnn_model,\n",
    "    to_file='cnn_classifier.png',\n",
    "    show_shapes=True,\n",
    "    show_layer_names=True,\n",
    "    rankdir='TB',\n",
    "    dpi=96\n",
    ")\n",
    "\n",
    "plot_model(\n",
    "    combined_model,\n",
    "    to_file='combined_model.pdf',\n",
    "    show_shapes=True,\n",
    "    show_layer_names=True,\n",
    "    rankdir='TB',\n",
    "    dpi=96\n",
    ")\n",
    "\n",
    "print(\"Model plots saved as:\")\n",
    "print(\"- densenet_feature_extractor.png\")\n",
    "print(\"- cnn_classifier.png\")\n",
    "print(\"- combined_model.pdf\")"
   ],
   "outputs": [
    {
     "name": "stdout",
     "output_type": "stream",
     "text": [
      "dot: graph is too large for cairo-renderer bitmaps. Scaling by 0.479723 to fit\r\n",
      "\n",
      "Model plots saved as:\n",
      "- densenet_feature_extractor.png\n",
      "- cnn_classifier.png\n",
      "- combined_model.pdf\n"
     ]
    }
   ],
   "execution_count": 4
  },
  {
   "metadata": {
    "ExecuteTime": {
     "end_time": "2025-04-11T15:49:06.350127Z",
     "start_time": "2025-04-11T15:49:02.744065Z"
    }
   },
   "cell_type": "code",
   "source": [
    "from tensorflow.keras.applications import DenseNet169\n",
    "from tensorflow.keras.models import Model, Sequential\n",
    "from tensorflow.keras.layers import GlobalAveragePooling2D, Dense, Dropout\n",
    "from tensorflow.keras.utils import plot_model\n",
    "\n",
    "# 1. Create the complete model architecture\n",
    "def create_combined_model(num_classes=27):\n",
    "    # Feature extractor (DenseNet169)\n",
    "    base_model = DenseNet169(weights=\"imagenet\", include_top=False, input_shape=(224, 224, 3))\n",
    "    for layer in base_model.layers:\n",
    "        layer.trainable = False\n",
    "\n",
    "    # Classifier head\n",
    "    x = GlobalAveragePooling2D()(base_model.output)\n",
    "    x = Dense(512, activation='relu')(x)\n",
    "    x = Dropout(0.5)(x)\n",
    "    x = Dense(256, activation='relu')(x)\n",
    "    x = Dropout(0.3)(x)\n",
    "    x = Dense(128, activation='relu')(x)\n",
    "    x = Dropout(0.2)(x)\n",
    "    outputs = Dense(num_classes, activation='softmax')(x)\n",
    "\n",
    "    return Model(inputs=base_model.input, outputs=outputs)\n",
    "\n",
    "# 2. Create and plot the model\n",
    "model = create_combined_model()\n",
    "\n",
    "# Save as PDF with high quality\n",
    "plot_model(\n",
    "    model,\n",
    "    to_file='densenet_cnn_architecture.pdf',\n",
    "    show_shapes=True,\n",
    "    show_layer_names=True,\n",
    "    rankdir='TB',  # Top-to-bottom layout\n",
    "    dpi=300,      # High resolution\n",
    "    expand_nested=True\n",
    ")\n",
    "\n",
    "print(\"PDF saved as 'densenet_cnn_architecture.pdf'\")"
   ],
   "id": "734f7cd29f0d291b",
   "outputs": [
    {
     "name": "stdout",
     "output_type": "stream",
     "text": [
      "PDF saved as 'densenet_cnn_architecture.pdf'\n"
     ]
    }
   ],
   "execution_count": 5
  },
  {
   "metadata": {
    "ExecuteTime": {
     "end_time": "2025-04-11T16:00:42.820473Z",
     "start_time": "2025-04-11T16:00:41.441554Z"
    }
   },
   "cell_type": "code",
   "source": [
    "plot_model(\n",
    "    model,\n",
    "    to_file='detailed_architecture.pdf',\n",
    "    show_shapes=True,\n",
    "    show_layer_names=True,\n",
    "    rankdir='TB',\n",
    "    dpi=300,\n",
    "    expand_nested=False,  # Shows DenseNet as single block\n",
    "    show_layer_activations=True\n",
    ")"
   ],
   "id": "5503311558efa23b",
   "outputs": [],
   "execution_count": 6
  },
  {
   "metadata": {},
   "cell_type": "code",
   "outputs": [],
   "execution_count": null,
   "source": "",
   "id": "6936fb3c9e7db537"
  }
 ],
 "metadata": {
  "kernelspec": {
   "display_name": "Python 3",
   "language": "python",
   "name": "python3"
  },
  "language_info": {
   "codemirror_mode": {
    "name": "ipython",
    "version": 2
   },
   "file_extension": ".py",
   "mimetype": "text/x-python",
   "name": "python",
   "nbconvert_exporter": "python",
   "pygments_lexer": "ipython2",
   "version": "2.7.6"
  }
 },
 "nbformat": 4,
 "nbformat_minor": 5
}
